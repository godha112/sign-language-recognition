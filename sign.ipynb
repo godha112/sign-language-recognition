{
 "cells": [
  {
   "cell_type": "code",
   "execution_count": 1,
   "metadata": {
    "_cell_guid": "79c7e3d0-c299-4dcb-8224-4455121ee9b0",
    "_uuid": "d629ff2d2480ee46fbb7e2d37f6b5fab8052498a"
   },
   "outputs": [
    {
     "name": "stderr",
     "output_type": "stream",
     "text": [
      "Using TensorFlow backend.\n"
     ]
    }
   ],
   "source": [
    "import numpy as np\n",
    "import pandas as pd\n",
    "from matplotlib import pyplot as plt\n",
    "import cv2\n",
    "from keras import layers\n",
    "from keras.layers import Input,Dense,Activation,ZeroPadding2D,BatchNormalization,Flatten,Conv2D\n",
    "from keras.layers import AveragePooling2D,MaxPooling2D,Dropout,GlobalMaxPooling2D,GlobalAveragePooling2D\n",
    "from keras.models import Model\n",
    "from keras.preprocessing import image\n",
    "from keras.utils.np_utils import to_categorical\n",
    "from sklearn.model_selection import train_test_split\n",
    "from keras.preprocessing import image\n",
    "gen = image.ImageDataGenerator()"
   ]
  },
  {
   "cell_type": "code",
   "execution_count": 2,
   "metadata": {
    "_uuid": "c238580b25a376471f7902ecee376479b5b1aa77"
   },
   "outputs": [],
   "source": [
    "test_dataset = 'C:\\\\Users\\\\HP\\\\Desktop\\\\cnn\\\\sign detection\\\\sign-language-mnist\\\\sign_mnist_test.csv'\n",
    "test = pd.read_csv(test_dataset)\n",
    "#print(test.shape)\n",
    "#test.head()\n",
    "train_dataset = 'C:\\\\Users\\\\HP\\\\Desktop\\\\cnn\\\\sign detection\\\\sign-language-mnist\\\\sign_mnist_train.csv'\n",
    "train = pd.read_csv(train_dataset)\n",
    "#print(train.shape)"
   ]
  },
  {
   "cell_type": "code",
   "execution_count": 3,
   "metadata": {
    "_uuid": "7cbe3b0d443a18592977da39ae9073305a5f3acb"
   },
   "outputs": [],
   "source": [
    "X_train = (train.iloc[:,1:].values).astype('float32')\n",
    "Y_train = (train.iloc[:,0].values).astype('int32')\n",
    "X_test = (test.iloc[:,1:].values).astype('float32')\n",
    "Y_test = (test.iloc[:,0].values).astype('int32')"
   ]
  },
  {
   "cell_type": "code",
   "execution_count": 4,
   "metadata": {
    "_uuid": "bf081af13edf95a393382626c82fd4b7df4ce6c0"
   },
   "outputs": [
    {
     "name": "stdout",
     "output_type": "stream",
     "text": [
      "(7172, 1)\n"
     ]
    },
    {
     "data": {
      "image/png": "[encoded data removed]",
      "text/plain": [
       "<Figure size 432x288 with 3 Axes>"
      ]
     },
     "metadata": {
      "needs_background": "light"
     },
     "output_type": "display_data"
    }
   ],
   "source": [
    "X_train = X_train.reshape(X_train.shape[0], 28, 28)\n",
    "for i in range(1,4):\n",
    "    plt.subplot(3,4,i+1)\n",
    "    plt.imshow(X_train[i], cmap=plt.get_cmap('gray'))\n",
    "X_train = X_train/255\n",
    "X_test = X_test/255\n",
    "X_train = X_train.reshape(X_train.shape[0],28,28,1)\n",
    "X_test = X_test.reshape(X_test.shape[0],28,28,1)\n",
    "Y_train = Y_train.reshape(Y_train.shape[0],1)\n",
    "Y_test = Y_test.reshape(Y_test.shape[0],1)\n",
    "print(Y_test.shape)\n"
   ]
  },
  {
   "cell_type": "code",
   "execution_count": 5,
   "metadata": {
    "_uuid": "417769ff77154e763a91f73b764cf7576cd86826"
   },
   "outputs": [],
   "source": [
    "Y_train = to_categorical(Y_train)"
   ]
  },
  {
   "cell_type": "code",
   "execution_count": 6,
   "metadata": {
    "_uuid": "5f7d46ab32f69b268bfa0481fe272112eb32b443"
   },
   "outputs": [],
   "source": [
    "def sign(input_shape):\n",
    "    X_input = Input(input_shape)\n",
    "    X = Conv2D(64,(3,3),strides = (1,1),name = 'convo2')(X_input)\n",
    "    X = BatchNormalization(axis = 1,name = 'bn4')(X)\n",
    "    X = Activation('relu')(X)\n",
    "    X = MaxPooling2D((2,2))(X)\n",
    "    X = Conv2D(64,(3,3),strides = (1,1),name = 'convo3')(X)\n",
    "    X = BatchNormalization(axis = 1,name = 'bn5')(X)\n",
    "    X = Activation('relu')(X)\n",
    "    X = MaxPooling2D((2,2))(X)\n",
    "    X = Conv2D(64,(3,3),strides = (1,1),name = 'convo4')(X)\n",
    "    X = Activation('relu')(X)\n",
    "    X = Flatten()(X)\n",
    "    X = Dense(130, activation='relu')(X)\n",
    "    X = Dropout(0.3)(X)\n",
    "    X = Dense(25, activation='softmax')(X)\n",
    "    model = Model(inputs = X_input, outputs = X, name='sign')\n",
    "    return model"
   ]
  },
  {
   "cell_type": "code",
   "execution_count": 7,
   "metadata": {
    "_uuid": "3478de84b3c0cbc15322e8cbd7fd4e2491376209"
   },
   "outputs": [],
   "source": [
    "detect = sign(X_train.shape[1:])\n",
    "detect.compile('adamax',loss = 'categorical_crossentropy',metrics = [\"accuracy\"])"
   ]
  },
  {
   "cell_type": "code",
   "execution_count": 8,
   "metadata": {
    "_uuid": "93aa6efc58e1984d6cfb7b57e309bec055cea798"
   },
   "outputs": [
    {
     "name": "stdout",
     "output_type": "stream",
     "text": [
      "Train on 19218 samples, validate on 8237 samples\n",
      "Epoch 1/10\n",
      "19218/19218 [==============================] - 229s 12ms/step - loss: 2.1956 - acc: 0.3450 - val_loss: 1.4139 - val_acc: 0.8132\n",
      "Epoch 2/10\n",
      "19218/19218 [==============================] - 224s 12ms/step - loss: 0.5055 - acc: 0.8454 - val_loss: 0.2427 - val_acc: 0.9840\n",
      "Epoch 3/10\n",
      "19218/19218 [==============================] - 222s 12ms/step - loss: 0.1489 - acc: 0.9615 - val_loss: 0.0417 - val_acc: 0.9994\n",
      "Epoch 4/10\n",
      "19218/19218 [==============================] - 241s 13ms/step - loss: 0.0640 - acc: 0.9855 - val_loss: 0.0226 - val_acc: 0.9983\n",
      "Epoch 5/10\n",
      "19218/19218 [==============================] - 250s 13ms/step - loss: 0.0385 - acc: 0.9926 - val_loss: 0.0059 - val_acc: 1.0000\n",
      "Epoch 6/10\n",
      "19218/19218 [==============================] - 238s 12ms/step - loss: 0.0238 - acc: 0.9955 - val_loss: 0.0035 - val_acc: 0.9999\n",
      "Epoch 7/10\n",
      "19218/19218 [==============================] - 249s 13ms/step - loss: 0.0183 - acc: 0.9962 - val_loss: 0.0026 - val_acc: 0.9998\n",
      "Epoch 8/10\n",
      "19218/19218 [==============================] - 228s 12ms/step - loss: 0.0150 - acc: 0.9974 - val_loss: 0.0025 - val_acc: 0.9999\n",
      "Epoch 9/10\n",
      "19218/19218 [==============================] - 235s 12ms/step - loss: 0.0105 - acc: 0.9982 - val_loss: 0.0011 - val_acc: 1.0000\n",
      "Epoch 10/10\n",
      "19218/19218 [==============================] - 224s 12ms/step - loss: 0.0067 - acc: 0.9992 - val_loss: 4.6584e-04 - val_acc: 1.0000\n"
     ]
    },
    {
     "data": {
      "text/plain": [
       "<keras.callbacks.History at 0x2044d2b3b00>"
      ]
     },
     "execution_count": 8,
     "metadata": {},
     "output_type": "execute_result"
    }
   ],
   "source": [
    "X_train, X_val, Y_train, Y_val = train_test_split(X_train, Y_train, test_size=0.30, random_state=100)\n",
    "detect.fit(X_train,Y_train,validation_data = (X_val,Y_val),epochs = 10,batch_size = 150)"
   ]
  },
  {
   "cell_type": "code",
   "execution_count": 9,
   "metadata": {
    "_uuid": "0bfb5d1eff417060eef4aaa72d3ce2785f3f201f"
   },
   "outputs": [
    {
     "name": "stdout",
     "output_type": "stream",
     "text": [
      "19218/19218 [==============================] - 98s 5ms/step\n"
     ]
    },
    {
     "data": {
      "text/plain": [
       "[0.0003451800702528586, 1.0]"
      ]
     },
     "execution_count": 9,
     "metadata": {},
     "output_type": "execute_result"
    }
   ],
   "source": [
    "detect.evaluate(X_train,Y_train,batch_size = 200,verbose = 1)"
   ]
  },
  {
   "cell_type": "code",
   "execution_count": 10,
   "metadata": {
    "_uuid": "1a3c5c42e5512a56973606c89744b4dcdfea9208"
   },
   "outputs": [
    {
     "name": "stdout",
     "output_type": "stream",
     "text": [
      "(7172, 25)\n"
     ]
    }
   ],
   "source": [
    "X_test = (test.iloc[:,1:].values).astype('float32')\n",
    "Y_test = (test.iloc[:,0].values).astype('int32')\n",
    "X_test = X_test.reshape(X_test.shape[0],28,28,1)\n",
    "Y_test = to_categorical(Y_test)\n",
    "print(Y_test.shape)"
   ]
  },
  {
   "cell_type": "code",
   "execution_count": 11,
   "metadata": {
    "_uuid": "9a7ed74bffbddbef75e4421720ed252b5c3e6ab7"
   },
   "outputs": [],
   "source": [
    "pred = detect.predict(X_test)"
   ]
  },
  {
   "cell_type": "code",
   "execution_count": 12,
   "metadata": {
    "_uuid": "96ccef96e0247712cbde1bc0b006d70e2eb0a44b"
   },
   "outputs": [
    {
     "data": {
      "text/plain": [
       "0.884829894032348"
      ]
     },
     "execution_count": 12,
     "metadata": {},
     "output_type": "execute_result"
    }
   ],
   "source": [
    "from sklearn.metrics import accuracy_score\n",
    "accuracy_score(Y_test, pred.round())"
   ]
  },
  {
   "cell_type": "code",
   "execution_count": 13,
   "metadata": {},
   "outputs": [
    {
     "name": "stdout",
     "output_type": "stream",
     "text": [
      "_________________________________________________________________\n",
      "Layer (type)                 Output Shape              Param #   \n",
      "=================================================================\n",
      "input_1 (InputLayer)         (None, 28, 28, 1)         0         \n",
      "_________________________________________________________________\n",
      "convo2 (Conv2D)              (None, 26, 26, 64)        640       \n",
      "_________________________________________________________________\n",
      "bn4 (BatchNormalization)     (None, 26, 26, 64)        104       \n",
      "_________________________________________________________________\n",
      "activation_1 (Activation)    (None, 26, 26, 64)        0         \n",
      "_________________________________________________________________\n",
      "max_pooling2d_1 (MaxPooling2 (None, 13, 13, 64)        0         \n",
      "_________________________________________________________________\n",
      "convo3 (Conv2D)              (None, 11, 11, 64)        36928     \n",
      "_________________________________________________________________\n",
      "bn5 (BatchNormalization)     (None, 11, 11, 64)        44        \n",
      "_________________________________________________________________\n",
      "activation_2 (Activation)    (None, 11, 11, 64)        0         \n",
      "_________________________________________________________________\n",
      "max_pooling2d_2 (MaxPooling2 (None, 5, 5, 64)          0         \n",
      "_________________________________________________________________\n",
      "convo4 (Conv2D)              (None, 3, 3, 64)          36928     \n",
      "_________________________________________________________________\n",
      "activation_3 (Activation)    (None, 3, 3, 64)          0         \n",
      "_________________________________________________________________\n",
      "flatten_1 (Flatten)          (None, 576)               0         \n",
      "_________________________________________________________________\n",
      "dense_1 (Dense)              (None, 130)               75010     \n",
      "_________________________________________________________________\n",
      "dropout_1 (Dropout)          (None, 130)               0         \n",
      "_________________________________________________________________\n",
      "dense_2 (Dense)              (None, 25)                3275      \n",
      "=================================================================\n",
      "Total params: 152,929\n",
      "Trainable params: 152,855\n",
      "Non-trainable params: 74\n",
      "_________________________________________________________________\n"
     ]
    }
   ],
   "source": [
    "detect.summary()"
   ]
  },
  {
   "cell_type": "code",
   "execution_count": null,
   "metadata": {},
   "outputs": [],
   "source": []
  }
 ],
 "metadata": {
  "kernelspec": {
   "display_name": "Python 3",
   "language": "python",
   "name": "python3"
  },
  "language_info": {
   "codemirror_mode": {
    "name": "ipython",
    "version": 3
   },
   "file_extension": ".py",
   "mimetype": "text/x-python",
   "name": "python",
   "nbconvert_exporter": "python",
   "pygments_lexer": "ipython3",
   "version": "3.5.0"
  }
 },
 "nbformat": 4,
 "nbformat_minor": 1
}
